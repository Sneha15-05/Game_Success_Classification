{
  "cells": [
    {
      "cell_type": "code",
      "execution_count": null,
      "id": "660dfb26-35c1-4db7-a6f3-643a2273b551",
      "metadata": {
        "id": "660dfb26-35c1-4db7-a6f3-643a2273b551"
      },
      "outputs": [],
      "source": [
        "import matplotlib.pyplot as plt\n",
        "import pandas as pd\n",
        "import seaborn as sns\n",
        "import numpy as np\n",
        "import ipywidgets as widgets\n",
        "from ipywidgets import interact\n",
        "from ipywidgets import interact_manual\n",
        "from sklearn import preprocessing\n",
        "from sklearn import metrics"
      ]
    },
    {
      "cell_type": "code",
      "execution_count": null,
      "id": "88bd56c4-6a31-427c-babf-c49e5323552a",
      "metadata": {
        "id": "88bd56c4-6a31-427c-babf-c49e5323552a"
      },
      "outputs": [],
      "source": [
        "#Read data\n",
        "data = pd.read_excel(\"Enter datafile_path here\")\n",
        "data = pd.DataFrame(data)"
      ]
    },
    {
      "cell_type": "markdown",
      "source": [
        "#EDA (Exploratory Data Analysis)"
      ],
      "metadata": {
        "id": "fw2W7zBN8OO9"
      },
      "id": "fw2W7zBN8OO9"
    },
    {
      "cell_type": "code",
      "execution_count": null,
      "id": "d80c1e6e-731a-4859-9502-5c75193d0c99",
      "metadata": {
        "id": "d80c1e6e-731a-4859-9502-5c75193d0c99",
        "outputId": "20251c39-6660-48ca-c644-c06ad82771d1"
      },
      "outputs": [
        {
          "data": {
            "text/html": [
              "<div>\n",
              "<style scoped>\n",
              "    .dataframe tbody tr th:only-of-type {\n",
              "        vertical-align: middle;\n",
              "    }\n",
              "\n",
              "    .dataframe tbody tr th {\n",
              "        vertical-align: top;\n",
              "    }\n",
              "\n",
              "    .dataframe thead th {\n",
              "        text-align: right;\n",
              "    }\n",
              "</style>\n",
              "<table border=\"1\" class=\"dataframe\">\n",
              "  <thead>\n",
              "    <tr style=\"text-align: right;\">\n",
              "      <th></th>\n",
              "      <th>Rank</th>\n",
              "      <th>Name</th>\n",
              "      <th>basename</th>\n",
              "      <th>Genre</th>\n",
              "      <th>ESRB_Rating</th>\n",
              "      <th>Platform</th>\n",
              "      <th>Publisher</th>\n",
              "      <th>Developer</th>\n",
              "      <th>VGChartz_Score</th>\n",
              "      <th>Critic_Score</th>\n",
              "      <th>...</th>\n",
              "      <th>Total_Shipped</th>\n",
              "      <th>Global_Sales</th>\n",
              "      <th>NA_Sales</th>\n",
              "      <th>PAL_Sales</th>\n",
              "      <th>JP_Sales</th>\n",
              "      <th>Other_Sales</th>\n",
              "      <th>Year</th>\n",
              "      <th>Last_Update</th>\n",
              "      <th>Unnamed: 19</th>\n",
              "      <th>status</th>\n",
              "    </tr>\n",
              "  </thead>\n",
              "  <tbody>\n",
              "    <tr>\n",
              "      <th>0</th>\n",
              "      <td>1</td>\n",
              "      <td>Wii Sports</td>\n",
              "      <td>wii-sports</td>\n",
              "      <td>Sports</td>\n",
              "      <td>E</td>\n",
              "      <td>Wii</td>\n",
              "      <td>Nintendo</td>\n",
              "      <td>Nintendo EAD</td>\n",
              "      <td>NaN</td>\n",
              "      <td>7.7</td>\n",
              "      <td>...</td>\n",
              "      <td>82.86</td>\n",
              "      <td>NaN</td>\n",
              "      <td>NaN</td>\n",
              "      <td>NaN</td>\n",
              "      <td>NaN</td>\n",
              "      <td>NaN</td>\n",
              "      <td>2006.0</td>\n",
              "      <td>NaN</td>\n",
              "      <td>NaN</td>\n",
              "      <td>1</td>\n",
              "    </tr>\n",
              "    <tr>\n",
              "      <th>1</th>\n",
              "      <td>2</td>\n",
              "      <td>Super Mario Bros.</td>\n",
              "      <td>super-mario-bros</td>\n",
              "      <td>Platform</td>\n",
              "      <td>NaN</td>\n",
              "      <td>NES</td>\n",
              "      <td>Nintendo</td>\n",
              "      <td>Nintendo EAD</td>\n",
              "      <td>NaN</td>\n",
              "      <td>10.0</td>\n",
              "      <td>...</td>\n",
              "      <td>40.24</td>\n",
              "      <td>NaN</td>\n",
              "      <td>NaN</td>\n",
              "      <td>NaN</td>\n",
              "      <td>NaN</td>\n",
              "      <td>NaN</td>\n",
              "      <td>1985.0</td>\n",
              "      <td>NaN</td>\n",
              "      <td>NaN</td>\n",
              "      <td>1</td>\n",
              "    </tr>\n",
              "    <tr>\n",
              "      <th>2</th>\n",
              "      <td>3</td>\n",
              "      <td>Mario Kart Wii</td>\n",
              "      <td>mario-kart-wii</td>\n",
              "      <td>Racing</td>\n",
              "      <td>E</td>\n",
              "      <td>Wii</td>\n",
              "      <td>Nintendo</td>\n",
              "      <td>Nintendo EAD</td>\n",
              "      <td>NaN</td>\n",
              "      <td>8.2</td>\n",
              "      <td>...</td>\n",
              "      <td>37.14</td>\n",
              "      <td>NaN</td>\n",
              "      <td>NaN</td>\n",
              "      <td>NaN</td>\n",
              "      <td>NaN</td>\n",
              "      <td>NaN</td>\n",
              "      <td>2008.0</td>\n",
              "      <td>11th Apr 18</td>\n",
              "      <td>NaN</td>\n",
              "      <td>1</td>\n",
              "    </tr>\n",
              "    <tr>\n",
              "      <th>3</th>\n",
              "      <td>4</td>\n",
              "      <td>PlayerUnknown's Battlegrounds</td>\n",
              "      <td>playerunknowns-battlegrounds</td>\n",
              "      <td>Shooter</td>\n",
              "      <td>NaN</td>\n",
              "      <td>PC</td>\n",
              "      <td>PUBG Corporation</td>\n",
              "      <td>PUBG Corporation</td>\n",
              "      <td>NaN</td>\n",
              "      <td>NaN</td>\n",
              "      <td>...</td>\n",
              "      <td>36.60</td>\n",
              "      <td>NaN</td>\n",
              "      <td>NaN</td>\n",
              "      <td>NaN</td>\n",
              "      <td>NaN</td>\n",
              "      <td>NaN</td>\n",
              "      <td>2017.0</td>\n",
              "      <td>13th Nov 18</td>\n",
              "      <td>NaN</td>\n",
              "      <td>1</td>\n",
              "    </tr>\n",
              "    <tr>\n",
              "      <th>4</th>\n",
              "      <td>5</td>\n",
              "      <td>Wii Sports Resort</td>\n",
              "      <td>wii-sports-resort</td>\n",
              "      <td>Sports</td>\n",
              "      <td>E</td>\n",
              "      <td>Wii</td>\n",
              "      <td>Nintendo</td>\n",
              "      <td>Nintendo EAD</td>\n",
              "      <td>NaN</td>\n",
              "      <td>8.0</td>\n",
              "      <td>...</td>\n",
              "      <td>33.09</td>\n",
              "      <td>NaN</td>\n",
              "      <td>NaN</td>\n",
              "      <td>NaN</td>\n",
              "      <td>NaN</td>\n",
              "      <td>NaN</td>\n",
              "      <td>2009.0</td>\n",
              "      <td>NaN</td>\n",
              "      <td>NaN</td>\n",
              "      <td>1</td>\n",
              "    </tr>\n",
              "  </tbody>\n",
              "</table>\n",
              "<p>5 rows × 21 columns</p>\n",
              "</div>"
            ],
            "text/plain": [
              "   Rank                           Name                      basename  \\\n",
              "0     1                     Wii Sports                    wii-sports   \n",
              "1     2              Super Mario Bros.              super-mario-bros   \n",
              "2     3                 Mario Kart Wii                mario-kart-wii   \n",
              "3     4  PlayerUnknown's Battlegrounds  playerunknowns-battlegrounds   \n",
              "4     5              Wii Sports Resort             wii-sports-resort   \n",
              "\n",
              "      Genre ESRB_Rating Platform         Publisher         Developer  \\\n",
              "0    Sports           E      Wii          Nintendo      Nintendo EAD   \n",
              "1  Platform         NaN      NES          Nintendo      Nintendo EAD   \n",
              "2    Racing           E      Wii          Nintendo      Nintendo EAD   \n",
              "3   Shooter         NaN       PC  PUBG Corporation  PUBG Corporation   \n",
              "4    Sports           E      Wii          Nintendo      Nintendo EAD   \n",
              "\n",
              "   VGChartz_Score  Critic_Score  ...  Total_Shipped  Global_Sales  NA_Sales  \\\n",
              "0             NaN           7.7  ...          82.86           NaN       NaN   \n",
              "1             NaN          10.0  ...          40.24           NaN       NaN   \n",
              "2             NaN           8.2  ...          37.14           NaN       NaN   \n",
              "3             NaN           NaN  ...          36.60           NaN       NaN   \n",
              "4             NaN           8.0  ...          33.09           NaN       NaN   \n",
              "\n",
              "   PAL_Sales  JP_Sales  Other_Sales    Year  Last_Update Unnamed: 19  status  \n",
              "0        NaN       NaN          NaN  2006.0          NaN         NaN       1  \n",
              "1        NaN       NaN          NaN  1985.0          NaN         NaN       1  \n",
              "2        NaN       NaN          NaN  2008.0  11th Apr 18         NaN       1  \n",
              "3        NaN       NaN          NaN  2017.0  13th Nov 18         NaN       1  \n",
              "4        NaN       NaN          NaN  2009.0          NaN         NaN       1  \n",
              "\n",
              "[5 rows x 21 columns]"
            ]
          },
          "execution_count": 11,
          "metadata": {},
          "output_type": "execute_result"
        }
      ],
      "source": [
        "data.head()"
      ]
    },
    {
      "cell_type": "code",
      "execution_count": null,
      "id": "bf0c3ac5-1dfe-4cf6-9bbb-b7d224cb8bca",
      "metadata": {
        "id": "bf0c3ac5-1dfe-4cf6-9bbb-b7d224cb8bca"
      },
      "outputs": [],
      "source": [
        "data = data.drop(['Rank','Name','basename','VGChartz_Score','Global_Sales','Other_Sales','Unnamed: 19','Last_Update','status'],axis=1)"
      ]
    },
    {
      "cell_type": "code",
      "execution_count": null,
      "id": "e34a8bc2-e610-4ff0-9fce-a7cdf0508dec",
      "metadata": {
        "id": "e34a8bc2-e610-4ff0-9fce-a7cdf0508dec",
        "outputId": "7bfdfcec-0618-4971-926c-e2c6b6d89cf4"
      },
      "outputs": [
        {
          "name": "stdout",
          "output_type": "stream",
          "text": [
            "<class 'pandas.core.frame.DataFrame'>\n",
            "RangeIndex: 55792 entries, 0 to 55791\n",
            "Data columns (total 12 columns):\n",
            " #   Column         Non-Null Count  Dtype  \n",
            "---  ------         --------------  -----  \n",
            " 0   Genre          55792 non-null  object \n",
            " 1   ESRB_Rating    23623 non-null  object \n",
            " 2   Platform       55792 non-null  object \n",
            " 3   Publisher      55792 non-null  object \n",
            " 4   Developer      55775 non-null  object \n",
            " 5   Critic_Score   6536 non-null   float64\n",
            " 6   User_Score     335 non-null    float64\n",
            " 7   Total_Shipped  1827 non-null   float64\n",
            " 8   NA_Sales       12964 non-null  float64\n",
            " 9   PAL_Sales      13189 non-null  float64\n",
            " 10  JP_Sales       7043 non-null   float64\n",
            " 11  Year           54813 non-null  float64\n",
            "dtypes: float64(7), object(5)\n",
            "memory usage: 5.1+ MB\n"
          ]
        }
      ],
      "source": [
        "data.info()"
      ]
    },
    {
      "cell_type": "code",
      "execution_count": null,
      "id": "bc48c7a4-cbe3-493e-b1dc-3bd144962f84",
      "metadata": {
        "colab": {
          "referenced_widgets": [
            "9da3774827f343fbac48b63c70150f7f"
          ]
        },
        "id": "bc48c7a4-cbe3-493e-b1dc-3bd144962f84",
        "outputId": "8249fbbd-8296-4ccc-a660-643230798462"
      },
      "outputs": [
        {
          "data": {
            "application/vnd.jupyter.widget-view+json": {
              "model_id": "9da3774827f343fbac48b63c70150f7f",
              "version_major": 2,
              "version_minor": 0
            },
            "text/plain": [
              "interactive(children=(Dropdown(description='column1', options=('Genre', 'ESRB_Rating', 'Platform', 'Publisher'…"
            ]
          },
          "metadata": {},
          "output_type": "display_data"
        }
      ],
      "source": [
        "# stats at a glance grouped by caterorical variables\n",
        "@interact\n",
        "def check(column1 = list(data.select_dtypes('object').columns),column2 = list(data.select_dtypes('float64').columns)):\n",
        "    return data[[column1,column2]].groupby(column1).agg(['max','min','mean',\n",
        "                                                           'median','std',\n",
        "                                                           'sum','count'])"
      ]
    },
    {
      "cell_type": "code",
      "execution_count": null,
      "id": "5f7231d9-06e2-4a2b-a6f1-31ade1f89123",
      "metadata": {
        "id": "5f7231d9-06e2-4a2b-a6f1-31ade1f89123",
        "outputId": "addc083f-4df7-422b-f49e-362f02ecd552"
      },
      "outputs": [
        {
          "data": {
            "text/html": [
              "<div>\n",
              "<style scoped>\n",
              "    .dataframe tbody tr th:only-of-type {\n",
              "        vertical-align: middle;\n",
              "    }\n",
              "\n",
              "    .dataframe tbody tr th {\n",
              "        vertical-align: top;\n",
              "    }\n",
              "\n",
              "    .dataframe thead th {\n",
              "        text-align: right;\n",
              "    }\n",
              "</style>\n",
              "<table border=\"1\" class=\"dataframe\">\n",
              "  <thead>\n",
              "    <tr style=\"text-align: right;\">\n",
              "      <th></th>\n",
              "      <th>Genre</th>\n",
              "      <th>ESRB_Rating</th>\n",
              "      <th>Platform</th>\n",
              "      <th>Publisher</th>\n",
              "      <th>Developer</th>\n",
              "      <th>Critic_Score</th>\n",
              "      <th>User_Score</th>\n",
              "      <th>Total_Shipped</th>\n",
              "      <th>NA_Sales</th>\n",
              "      <th>PAL_Sales</th>\n",
              "      <th>JP_Sales</th>\n",
              "      <th>Year</th>\n",
              "    </tr>\n",
              "  </thead>\n",
              "  <tbody>\n",
              "    <tr>\n",
              "      <th>0</th>\n",
              "      <td>Sports</td>\n",
              "      <td>E</td>\n",
              "      <td>Wii</td>\n",
              "      <td>Nintendo</td>\n",
              "      <td>Nintendo EAD</td>\n",
              "      <td>7.7</td>\n",
              "      <td>NaN</td>\n",
              "      <td>82.86</td>\n",
              "      <td>NaN</td>\n",
              "      <td>NaN</td>\n",
              "      <td>NaN</td>\n",
              "      <td>2006.0</td>\n",
              "    </tr>\n",
              "    <tr>\n",
              "      <th>1</th>\n",
              "      <td>Platform</td>\n",
              "      <td>NaN</td>\n",
              "      <td>NES</td>\n",
              "      <td>Nintendo</td>\n",
              "      <td>Nintendo EAD</td>\n",
              "      <td>10.0</td>\n",
              "      <td>NaN</td>\n",
              "      <td>40.24</td>\n",
              "      <td>NaN</td>\n",
              "      <td>NaN</td>\n",
              "      <td>NaN</td>\n",
              "      <td>1985.0</td>\n",
              "    </tr>\n",
              "    <tr>\n",
              "      <th>2</th>\n",
              "      <td>Racing</td>\n",
              "      <td>E</td>\n",
              "      <td>Wii</td>\n",
              "      <td>Nintendo</td>\n",
              "      <td>Nintendo EAD</td>\n",
              "      <td>8.2</td>\n",
              "      <td>9.1</td>\n",
              "      <td>37.14</td>\n",
              "      <td>NaN</td>\n",
              "      <td>NaN</td>\n",
              "      <td>NaN</td>\n",
              "      <td>2008.0</td>\n",
              "    </tr>\n",
              "    <tr>\n",
              "      <th>3</th>\n",
              "      <td>Shooter</td>\n",
              "      <td>NaN</td>\n",
              "      <td>PC</td>\n",
              "      <td>PUBG Corporation</td>\n",
              "      <td>PUBG Corporation</td>\n",
              "      <td>NaN</td>\n",
              "      <td>NaN</td>\n",
              "      <td>36.60</td>\n",
              "      <td>NaN</td>\n",
              "      <td>NaN</td>\n",
              "      <td>NaN</td>\n",
              "      <td>2017.0</td>\n",
              "    </tr>\n",
              "    <tr>\n",
              "      <th>4</th>\n",
              "      <td>Sports</td>\n",
              "      <td>E</td>\n",
              "      <td>Wii</td>\n",
              "      <td>Nintendo</td>\n",
              "      <td>Nintendo EAD</td>\n",
              "      <td>8.0</td>\n",
              "      <td>8.8</td>\n",
              "      <td>33.09</td>\n",
              "      <td>NaN</td>\n",
              "      <td>NaN</td>\n",
              "      <td>NaN</td>\n",
              "      <td>2009.0</td>\n",
              "    </tr>\n",
              "  </tbody>\n",
              "</table>\n",
              "</div>"
            ],
            "text/plain": [
              "      Genre ESRB_Rating Platform         Publisher         Developer  \\\n",
              "0    Sports           E      Wii          Nintendo      Nintendo EAD   \n",
              "1  Platform         NaN      NES          Nintendo      Nintendo EAD   \n",
              "2    Racing           E      Wii          Nintendo      Nintendo EAD   \n",
              "3   Shooter         NaN       PC  PUBG Corporation  PUBG Corporation   \n",
              "4    Sports           E      Wii          Nintendo      Nintendo EAD   \n",
              "\n",
              "   Critic_Score  User_Score  Total_Shipped  NA_Sales  PAL_Sales  JP_Sales  \\\n",
              "0           7.7         NaN          82.86       NaN        NaN       NaN   \n",
              "1          10.0         NaN          40.24       NaN        NaN       NaN   \n",
              "2           8.2         9.1          37.14       NaN        NaN       NaN   \n",
              "3           NaN         NaN          36.60       NaN        NaN       NaN   \n",
              "4           8.0         8.8          33.09       NaN        NaN       NaN   \n",
              "\n",
              "     Year  \n",
              "0  2006.0  \n",
              "1  1985.0  \n",
              "2  2008.0  \n",
              "3  2017.0  \n",
              "4  2009.0  "
            ]
          },
          "execution_count": 15,
          "metadata": {},
          "output_type": "execute_result"
        }
      ],
      "source": [
        "data.head()"
      ]
    },
    {
      "cell_type": "code",
      "execution_count": null,
      "id": "142afe2a-2c4d-4c47-9007-23ba8c0058d5",
      "metadata": {
        "id": "142afe2a-2c4d-4c47-9007-23ba8c0058d5",
        "outputId": "d7e8c750-e83e-496b-e836-6564aacecce7"
      },
      "outputs": [
        {
          "name": "stdout",
          "output_type": "stream",
          "text": [
            "NULL VALUES IN\n",
            "PAL : 42603\n",
            "NA : 42828\n",
            "JAPAN : 48749\n"
          ]
        }
      ],
      "source": [
        "#finding null values\n",
        "print(\"NULL VALUES IN\")\n",
        "print(\"PAL :\",data['PAL_Sales'].isna().sum())\n",
        "print(\"NA :\",data['NA_Sales'].isna().sum())\n",
        "print(\"JAPAN :\",data['JP_Sales'].isna().sum())"
      ]
    },
    {
      "cell_type": "code",
      "execution_count": null,
      "id": "29a519e8-e655-431b-879c-209d54e57c0f",
      "metadata": {
        "id": "29a519e8-e655-431b-879c-209d54e57c0f",
        "outputId": "64bf6ac2-1133-4788-9675-1f69974ab5bd"
      },
      "outputs": [
        {
          "data": {
            "text/plain": [
              "(55792, 12)"
            ]
          },
          "execution_count": 17,
          "metadata": {},
          "output_type": "execute_result"
        }
      ],
      "source": [
        "data.shape"
      ]
    },
    {
      "cell_type": "code",
      "execution_count": null,
      "id": "adaf72ee-6f22-4512-b90d-899661d6cf72",
      "metadata": {
        "id": "adaf72ee-6f22-4512-b90d-899661d6cf72"
      },
      "outputs": [],
      "source": [
        "#removing the null values\n",
        "data = data[data['PAL_Sales'].notna()]\n",
        "data = data[data['NA_Sales'].notna()]\n",
        "data = data[data['JP_Sales'].notna()]\n",
        "#data = data.reset_index(drop=True, inplace=True)"
      ]
    },
    {
      "cell_type": "code",
      "execution_count": null,
      "id": "d69af03b-eb79-4f68-adbd-7448fe87295d",
      "metadata": {
        "id": "d69af03b-eb79-4f68-adbd-7448fe87295d",
        "outputId": "443bc14a-1753-4622-d2fb-3cfafeb7b48b"
      },
      "outputs": [
        {
          "data": {
            "text/html": [
              "<div>\n",
              "<style scoped>\n",
              "    .dataframe tbody tr th:only-of-type {\n",
              "        vertical-align: middle;\n",
              "    }\n",
              "\n",
              "    .dataframe tbody tr th {\n",
              "        vertical-align: top;\n",
              "    }\n",
              "\n",
              "    .dataframe thead th {\n",
              "        text-align: right;\n",
              "    }\n",
              "</style>\n",
              "<table border=\"1\" class=\"dataframe\">\n",
              "  <thead>\n",
              "    <tr style=\"text-align: right;\">\n",
              "      <th></th>\n",
              "      <th>Genre</th>\n",
              "      <th>ESRB_Rating</th>\n",
              "      <th>Platform</th>\n",
              "      <th>Publisher</th>\n",
              "      <th>Developer</th>\n",
              "      <th>Critic_Score</th>\n",
              "      <th>User_Score</th>\n",
              "      <th>Total_Shipped</th>\n",
              "      <th>NA_Sales</th>\n",
              "      <th>PAL_Sales</th>\n",
              "      <th>JP_Sales</th>\n",
              "      <th>Year</th>\n",
              "    </tr>\n",
              "  </thead>\n",
              "  <tbody>\n",
              "    <tr>\n",
              "      <th>19</th>\n",
              "      <td>Action</td>\n",
              "      <td>M</td>\n",
              "      <td>PS3</td>\n",
              "      <td>Rockstar Games</td>\n",
              "      <td>Rockstar North</td>\n",
              "      <td>9.4</td>\n",
              "      <td>NaN</td>\n",
              "      <td>NaN</td>\n",
              "      <td>6.37</td>\n",
              "      <td>9.85</td>\n",
              "      <td>0.99</td>\n",
              "      <td>2013.0</td>\n",
              "    </tr>\n",
              "    <tr>\n",
              "      <th>20</th>\n",
              "      <td>Action</td>\n",
              "      <td>M</td>\n",
              "      <td>PS4</td>\n",
              "      <td>Rockstar Games</td>\n",
              "      <td>Rockstar North</td>\n",
              "      <td>9.7</td>\n",
              "      <td>NaN</td>\n",
              "      <td>NaN</td>\n",
              "      <td>6.06</td>\n",
              "      <td>9.71</td>\n",
              "      <td>0.60</td>\n",
              "      <td>2014.0</td>\n",
              "    </tr>\n",
              "    <tr>\n",
              "      <th>30</th>\n",
              "      <td>Action</td>\n",
              "      <td>M</td>\n",
              "      <td>PS2</td>\n",
              "      <td>Rockstar Games</td>\n",
              "      <td>Rockstar North</td>\n",
              "      <td>9.6</td>\n",
              "      <td>NaN</td>\n",
              "      <td>NaN</td>\n",
              "      <td>8.41</td>\n",
              "      <td>5.49</td>\n",
              "      <td>0.47</td>\n",
              "      <td>2002.0</td>\n",
              "    </tr>\n",
              "    <tr>\n",
              "      <th>32</th>\n",
              "      <td>Action</td>\n",
              "      <td>M</td>\n",
              "      <td>X360</td>\n",
              "      <td>Rockstar Games</td>\n",
              "      <td>Rockstar North</td>\n",
              "      <td>NaN</td>\n",
              "      <td>NaN</td>\n",
              "      <td>NaN</td>\n",
              "      <td>9.06</td>\n",
              "      <td>5.33</td>\n",
              "      <td>0.06</td>\n",
              "      <td>2013.0</td>\n",
              "    </tr>\n",
              "    <tr>\n",
              "      <th>34</th>\n",
              "      <td>Shooter</td>\n",
              "      <td>M</td>\n",
              "      <td>PS4</td>\n",
              "      <td>Activision</td>\n",
              "      <td>Treyarch</td>\n",
              "      <td>NaN</td>\n",
              "      <td>NaN</td>\n",
              "      <td>NaN</td>\n",
              "      <td>6.18</td>\n",
              "      <td>6.05</td>\n",
              "      <td>0.41</td>\n",
              "      <td>2015.0</td>\n",
              "    </tr>\n",
              "  </tbody>\n",
              "</table>\n",
              "</div>"
            ],
            "text/plain": [
              "      Genre ESRB_Rating Platform       Publisher       Developer  \\\n",
              "19   Action           M      PS3  Rockstar Games  Rockstar North   \n",
              "20   Action           M      PS4  Rockstar Games  Rockstar North   \n",
              "30   Action           M      PS2  Rockstar Games  Rockstar North   \n",
              "32   Action           M     X360  Rockstar Games  Rockstar North   \n",
              "34  Shooter           M      PS4      Activision        Treyarch   \n",
              "\n",
              "    Critic_Score  User_Score  Total_Shipped  NA_Sales  PAL_Sales  JP_Sales  \\\n",
              "19           9.4         NaN            NaN      6.37       9.85      0.99   \n",
              "20           9.7         NaN            NaN      6.06       9.71      0.60   \n",
              "30           9.6         NaN            NaN      8.41       5.49      0.47   \n",
              "32           NaN         NaN            NaN      9.06       5.33      0.06   \n",
              "34           NaN         NaN            NaN      6.18       6.05      0.41   \n",
              "\n",
              "      Year  \n",
              "19  2013.0  \n",
              "20  2014.0  \n",
              "30  2002.0  \n",
              "32  2013.0  \n",
              "34  2015.0  "
            ]
          },
          "execution_count": 19,
          "metadata": {},
          "output_type": "execute_result"
        }
      ],
      "source": [
        "data.head()"
      ]
    },
    {
      "cell_type": "code",
      "execution_count": null,
      "id": "f78365ee-c782-4475-9fba-ab682522fe19",
      "metadata": {
        "id": "f78365ee-c782-4475-9fba-ab682522fe19",
        "outputId": "ff62ea16-bf5c-43c2-c3bc-020f73a32113"
      },
      "outputs": [
        {
          "name": "stdout",
          "output_type": "stream",
          "text": [
            "NULL VALUES IN\n",
            "Critic_Score : 1121\n",
            "User_Score : 2332\n",
            "Total_Shipped 2438\n"
          ]
        }
      ],
      "source": [
        "#finding null values\n",
        "print(\"NULL VALUES IN\")\n",
        "print(\"Critic_Score :\",data['Critic_Score'].isna().sum())\n",
        "print(\"User_Score :\",data['User_Score'].isna().sum())\n",
        "print(\"Total_Shipped\",data['Total_Shipped'].isna().sum())\n"
      ]
    },
    {
      "cell_type": "code",
      "execution_count": null,
      "id": "620328db-d909-4c0b-b4c1-5bc0d5cbfc95",
      "metadata": {
        "id": "620328db-d909-4c0b-b4c1-5bc0d5cbfc95",
        "outputId": "4e9a7f92-3b64-4923-f955-29ee539679c2"
      },
      "outputs": [
        {
          "data": {
            "text/html": [
              "<div>\n",
              "<style scoped>\n",
              "    .dataframe tbody tr th:only-of-type {\n",
              "        vertical-align: middle;\n",
              "    }\n",
              "\n",
              "    .dataframe tbody tr th {\n",
              "        vertical-align: top;\n",
              "    }\n",
              "\n",
              "    .dataframe thead th {\n",
              "        text-align: right;\n",
              "    }\n",
              "</style>\n",
              "<table border=\"1\" class=\"dataframe\">\n",
              "  <thead>\n",
              "    <tr style=\"text-align: right;\">\n",
              "      <th></th>\n",
              "      <th>Genre</th>\n",
              "      <th>ESRB_Rating</th>\n",
              "      <th>Platform</th>\n",
              "      <th>Publisher</th>\n",
              "      <th>Developer</th>\n",
              "      <th>Critic_Score</th>\n",
              "      <th>User_Score</th>\n",
              "      <th>Total_Shipped</th>\n",
              "      <th>NA_Sales</th>\n",
              "      <th>PAL_Sales</th>\n",
              "      <th>JP_Sales</th>\n",
              "      <th>Year</th>\n",
              "    </tr>\n",
              "  </thead>\n",
              "  <tbody>\n",
              "    <tr>\n",
              "      <th>19</th>\n",
              "      <td>Action</td>\n",
              "      <td>M</td>\n",
              "      <td>PS3</td>\n",
              "      <td>Rockstar Games</td>\n",
              "      <td>Rockstar North</td>\n",
              "      <td>9.4</td>\n",
              "      <td>NaN</td>\n",
              "      <td>NaN</td>\n",
              "      <td>6.37</td>\n",
              "      <td>9.85</td>\n",
              "      <td>0.99</td>\n",
              "      <td>2013.0</td>\n",
              "    </tr>\n",
              "    <tr>\n",
              "      <th>20</th>\n",
              "      <td>Action</td>\n",
              "      <td>M</td>\n",
              "      <td>PS4</td>\n",
              "      <td>Rockstar Games</td>\n",
              "      <td>Rockstar North</td>\n",
              "      <td>9.7</td>\n",
              "      <td>NaN</td>\n",
              "      <td>NaN</td>\n",
              "      <td>6.06</td>\n",
              "      <td>9.71</td>\n",
              "      <td>0.60</td>\n",
              "      <td>2014.0</td>\n",
              "    </tr>\n",
              "    <tr>\n",
              "      <th>30</th>\n",
              "      <td>Action</td>\n",
              "      <td>M</td>\n",
              "      <td>PS2</td>\n",
              "      <td>Rockstar Games</td>\n",
              "      <td>Rockstar North</td>\n",
              "      <td>9.6</td>\n",
              "      <td>NaN</td>\n",
              "      <td>NaN</td>\n",
              "      <td>8.41</td>\n",
              "      <td>5.49</td>\n",
              "      <td>0.47</td>\n",
              "      <td>2002.0</td>\n",
              "    </tr>\n",
              "    <tr>\n",
              "      <th>32</th>\n",
              "      <td>Action</td>\n",
              "      <td>M</td>\n",
              "      <td>X360</td>\n",
              "      <td>Rockstar Games</td>\n",
              "      <td>Rockstar North</td>\n",
              "      <td>NaN</td>\n",
              "      <td>NaN</td>\n",
              "      <td>NaN</td>\n",
              "      <td>9.06</td>\n",
              "      <td>5.33</td>\n",
              "      <td>0.06</td>\n",
              "      <td>2013.0</td>\n",
              "    </tr>\n",
              "    <tr>\n",
              "      <th>34</th>\n",
              "      <td>Shooter</td>\n",
              "      <td>M</td>\n",
              "      <td>PS4</td>\n",
              "      <td>Activision</td>\n",
              "      <td>Treyarch</td>\n",
              "      <td>NaN</td>\n",
              "      <td>NaN</td>\n",
              "      <td>NaN</td>\n",
              "      <td>6.18</td>\n",
              "      <td>6.05</td>\n",
              "      <td>0.41</td>\n",
              "      <td>2015.0</td>\n",
              "    </tr>\n",
              "  </tbody>\n",
              "</table>\n",
              "</div>"
            ],
            "text/plain": [
              "      Genre ESRB_Rating Platform       Publisher       Developer  \\\n",
              "19   Action           M      PS3  Rockstar Games  Rockstar North   \n",
              "20   Action           M      PS4  Rockstar Games  Rockstar North   \n",
              "30   Action           M      PS2  Rockstar Games  Rockstar North   \n",
              "32   Action           M     X360  Rockstar Games  Rockstar North   \n",
              "34  Shooter           M      PS4      Activision        Treyarch   \n",
              "\n",
              "    Critic_Score  User_Score  Total_Shipped  NA_Sales  PAL_Sales  JP_Sales  \\\n",
              "19           9.4         NaN            NaN      6.37       9.85      0.99   \n",
              "20           9.7         NaN            NaN      6.06       9.71      0.60   \n",
              "30           9.6         NaN            NaN      8.41       5.49      0.47   \n",
              "32           NaN         NaN            NaN      9.06       5.33      0.06   \n",
              "34           NaN         NaN            NaN      6.18       6.05      0.41   \n",
              "\n",
              "      Year  \n",
              "19  2013.0  \n",
              "20  2014.0  \n",
              "30  2002.0  \n",
              "32  2013.0  \n",
              "34  2015.0  "
            ]
          },
          "execution_count": 21,
          "metadata": {},
          "output_type": "execute_result"
        }
      ],
      "source": [
        "#data = data.reset_index(inplace=True)\n",
        "#data = data.drop(['index'],axis=1)\n",
        "data.head()\n",
        "#data = pd.DataFrame(data)"
      ]
    },
    {
      "cell_type": "code",
      "execution_count": null,
      "id": "8350fa27-33f9-4fdf-bb7a-e50ee564805b",
      "metadata": {
        "id": "8350fa27-33f9-4fdf-bb7a-e50ee564805b",
        "outputId": "cf69b7a3-ae4f-4f28-a0b0-89409ef57231"
      },
      "outputs": [
        {
          "data": {
            "text/plain": [
              "(1317, 10)"
            ]
          },
          "execution_count": 22,
          "metadata": {},
          "output_type": "execute_result"
        }
      ],
      "source": [
        "#here as all the total_shipped values are null we will dop it\n",
        "data = data.drop(['Total_Shipped'],axis=1)\n",
        "data = data.drop(['User_Score'],axis=1)\n",
        "data = data[data['Critic_Score'].notna()]\n",
        "#data = data.reset_index(inplace=True)\n",
        "#data = data.drop(['index'],axis=1)\n",
        "data.shape\n"
      ]
    },
    {
      "cell_type": "code",
      "execution_count": null,
      "id": "e0e17c4b-691d-4660-9d98-bba41cc563af",
      "metadata": {
        "id": "e0e17c4b-691d-4660-9d98-bba41cc563af",
        "outputId": "195e5e76-90a4-4808-cbb8-7de05a125dd0"
      },
      "outputs": [
        {
          "name": "stdout",
          "output_type": "stream",
          "text": [
            "T      476\n",
            "M      359\n",
            "E      328\n",
            "E10    145\n",
            "Name: ESRB_Rating, dtype: int64\n",
            "Role-Playing        229\n",
            "Action              219\n",
            "Shooter             203\n",
            "Sports              120\n",
            "Racing               97\n",
            "Fighting             95\n",
            "Platform             85\n",
            "Adventure            65\n",
            "Simulation           49\n",
            "Misc                 43\n",
            "Strategy             35\n",
            "Puzzle               35\n",
            "Action-Adventure     33\n",
            "Music                 3\n",
            "Party                 3\n",
            "Sandbox               1\n",
            "MMO                   1\n",
            "Board Game            1\n",
            "Name: Genre, dtype: int64\n",
            "PS3     267\n",
            "X360    266\n",
            "PS2     117\n",
            "PSP     102\n",
            "Wii      90\n",
            "DS       89\n",
            "3DS      84\n",
            "PS       78\n",
            "PS4      57\n",
            "NS       45\n",
            "GC       29\n",
            "WiiU     26\n",
            "GBA      24\n",
            "N64      15\n",
            "XOne     11\n",
            "XB        7\n",
            "DC        2\n",
            "GBC       2\n",
            "PSN       1\n",
            "PC        1\n",
            "PSV       1\n",
            "NES       1\n",
            "GB        1\n",
            "SAT       1\n",
            "Name: Platform, dtype: int64\n",
            "Nintendo                       112\n",
            "Electronic Arts                110\n",
            "Sony Computer Entertainment     86\n",
            "Ubisoft                         72\n",
            "Konami                          72\n",
            "                              ... \n",
            "Valve Corporation                1\n",
            "Global Star Software             1\n",
            "Sierra Entertainment             1\n",
            "Ultra Games                      1\n",
            "Arc System Works                 1\n",
            "Name: Publisher, Length: 86, dtype: int64\n",
            "Capcom                                    41\n",
            "EA Canada                                 35\n",
            "Konami                                    32\n",
            "Omega Force                               27\n",
            "Ubisoft Montreal                          27\n",
            "                                          ..\n",
            "Mistwalker Corporation / Artoon            1\n",
            "Mistwalker Corporation / Feelplus Inc.     1\n",
            "SCEA Bend Studio                           1\n",
            "Midway Games                               1\n",
            "Delta Factory                              1\n",
            "Name: Developer, Length: 425, dtype: int64\n",
            "2011.0    160\n",
            "2010.0    158\n",
            "2009.0    157\n",
            "2008.0    139\n",
            "2007.0    107\n",
            "2006.0     75\n",
            "2005.0     55\n",
            "2018.0     49\n",
            "2013.0     42\n",
            "2017.0     42\n",
            "2014.0     33\n",
            "2012.0     32\n",
            "2003.0     32\n",
            "2015.0     29\n",
            "2001.0     28\n",
            "2002.0     28\n",
            "2004.0     26\n",
            "2016.0     25\n",
            "2000.0     24\n",
            "1999.0     23\n",
            "1997.0     21\n",
            "1998.0     20\n",
            "1996.0      8\n",
            "1995.0      3\n",
            "1989.0      1\n",
            "Name: Year, dtype: int64\n"
          ]
        }
      ],
      "source": [
        "print(data['ESRB_Rating'].value_counts())\n",
        "print(data['Genre'].value_counts())\n",
        "print(data['Platform'].value_counts())\n",
        "print(data['Publisher'].value_counts())\n",
        "print(data['Developer'].value_counts())\n",
        "print(data['Year'].value_counts())"
      ]
    },
    {
      "cell_type": "code",
      "execution_count": null,
      "id": "40d4d217-b2c5-4460-8af7-83e1545a8bb2",
      "metadata": {
        "id": "40d4d217-b2c5-4460-8af7-83e1545a8bb2",
        "outputId": "46914178-5df9-404f-bd9c-dbcbbdeb208e"
      },
      "outputs": [
        {
          "data": {
            "text/html": [
              "<div>\n",
              "<style scoped>\n",
              "    .dataframe tbody tr th:only-of-type {\n",
              "        vertical-align: middle;\n",
              "    }\n",
              "\n",
              "    .dataframe tbody tr th {\n",
              "        vertical-align: top;\n",
              "    }\n",
              "\n",
              "    .dataframe thead th {\n",
              "        text-align: right;\n",
              "    }\n",
              "</style>\n",
              "<table border=\"1\" class=\"dataframe\">\n",
              "  <thead>\n",
              "    <tr style=\"text-align: right;\">\n",
              "      <th></th>\n",
              "      <th>Genre</th>\n",
              "      <th>ESRB_Rating</th>\n",
              "      <th>Platform</th>\n",
              "      <th>Publisher</th>\n",
              "      <th>Developer</th>\n",
              "      <th>Critic_Score</th>\n",
              "      <th>NA_Sales</th>\n",
              "      <th>PAL_Sales</th>\n",
              "      <th>JP_Sales</th>\n",
              "      <th>Year</th>\n",
              "    </tr>\n",
              "  </thead>\n",
              "  <tbody>\n",
              "    <tr>\n",
              "      <th>19</th>\n",
              "      <td>Action</td>\n",
              "      <td>M</td>\n",
              "      <td>PS3</td>\n",
              "      <td>Rockstar Games</td>\n",
              "      <td>Rockstar North</td>\n",
              "      <td>9.4</td>\n",
              "      <td>6.37</td>\n",
              "      <td>9.85</td>\n",
              "      <td>0.99</td>\n",
              "      <td>2013.0</td>\n",
              "    </tr>\n",
              "    <tr>\n",
              "      <th>20</th>\n",
              "      <td>Action</td>\n",
              "      <td>M</td>\n",
              "      <td>PS4</td>\n",
              "      <td>Rockstar Games</td>\n",
              "      <td>Rockstar North</td>\n",
              "      <td>9.7</td>\n",
              "      <td>6.06</td>\n",
              "      <td>9.71</td>\n",
              "      <td>0.60</td>\n",
              "      <td>2014.0</td>\n",
              "    </tr>\n",
              "    <tr>\n",
              "      <th>30</th>\n",
              "      <td>Action</td>\n",
              "      <td>M</td>\n",
              "      <td>PS2</td>\n",
              "      <td>Rockstar Games</td>\n",
              "      <td>Rockstar North</td>\n",
              "      <td>9.6</td>\n",
              "      <td>8.41</td>\n",
              "      <td>5.49</td>\n",
              "      <td>0.47</td>\n",
              "      <td>2002.0</td>\n",
              "    </tr>\n",
              "    <tr>\n",
              "      <th>40</th>\n",
              "      <td>Shooter</td>\n",
              "      <td>M</td>\n",
              "      <td>X360</td>\n",
              "      <td>Activision</td>\n",
              "      <td>Infinity Ward</td>\n",
              "      <td>8.7</td>\n",
              "      <td>9.07</td>\n",
              "      <td>4.29</td>\n",
              "      <td>0.13</td>\n",
              "      <td>2011.0</td>\n",
              "    </tr>\n",
              "    <tr>\n",
              "      <th>41</th>\n",
              "      <td>Shooter</td>\n",
              "      <td>M</td>\n",
              "      <td>X360</td>\n",
              "      <td>Activision</td>\n",
              "      <td>Treyarch</td>\n",
              "      <td>8.8</td>\n",
              "      <td>9.76</td>\n",
              "      <td>3.73</td>\n",
              "      <td>0.11</td>\n",
              "      <td>2010.0</td>\n",
              "    </tr>\n",
              "  </tbody>\n",
              "</table>\n",
              "</div>"
            ],
            "text/plain": [
              "      Genre ESRB_Rating Platform       Publisher       Developer  \\\n",
              "19   Action           M      PS3  Rockstar Games  Rockstar North   \n",
              "20   Action           M      PS4  Rockstar Games  Rockstar North   \n",
              "30   Action           M      PS2  Rockstar Games  Rockstar North   \n",
              "40  Shooter           M     X360      Activision   Infinity Ward   \n",
              "41  Shooter           M     X360      Activision        Treyarch   \n",
              "\n",
              "    Critic_Score  NA_Sales  PAL_Sales  JP_Sales    Year  \n",
              "19           9.4      6.37       9.85      0.99  2013.0  \n",
              "20           9.7      6.06       9.71      0.60  2014.0  \n",
              "30           9.6      8.41       5.49      0.47  2002.0  \n",
              "40           8.7      9.07       4.29      0.13  2011.0  \n",
              "41           8.8      9.76       3.73      0.11  2010.0  "
            ]
          },
          "execution_count": 23,
          "metadata": {},
          "output_type": "execute_result"
        }
      ],
      "source": [
        "data.head()"
      ]
    },
    {
      "cell_type": "code",
      "execution_count": null,
      "id": "85f4eae1-e900-4ca6-b063-e163b6515099",
      "metadata": {
        "id": "85f4eae1-e900-4ca6-b063-e163b6515099",
        "outputId": "eff3b516-ad77-48c8-d13e-b990c8ae4321"
      },
      "outputs": [
        {
          "name": "stderr",
          "output_type": "stream",
          "text": [
            "C:\\Users\\tuana\\AppData\\Local\\Temp\\ipykernel_9528\\1056944456.py:7: SettingWithCopyWarning: \n",
            "A value is trying to be set on a copy of a slice from a DataFrame\n",
            "\n",
            "See the caveats in the documentation: https://pandas.pydata.org/pandas-docs/stable/user_guide/indexing.html#returning-a-view-versus-a-copy\n",
            "  data['Country_max'][i] = \"PAL\"\n",
            "C:\\Users\\tuana\\AppData\\Local\\Temp\\ipykernel_9528\\1056944456.py:5: SettingWithCopyWarning: \n",
            "A value is trying to be set on a copy of a slice from a DataFrame\n",
            "\n",
            "See the caveats in the documentation: https://pandas.pydata.org/pandas-docs/stable/user_guide/indexing.html#returning-a-view-versus-a-copy\n",
            "  data['Country_max'][i] = \"NA\"\n",
            "C:\\Users\\tuana\\AppData\\Local\\Temp\\ipykernel_9528\\1056944456.py:9: SettingWithCopyWarning: \n",
            "A value is trying to be set on a copy of a slice from a DataFrame\n",
            "\n",
            "See the caveats in the documentation: https://pandas.pydata.org/pandas-docs/stable/user_guide/indexing.html#returning-a-view-versus-a-copy\n",
            "  data['Country_max'][i] = \"JP\"\n"
          ]
        }
      ],
      "source": [
        "#finding max country column and making a new column\n",
        "data['Country_max'] = \"-\"\n",
        "for i in data.index:\n",
        "    if(max(data['NA_Sales'][i],data.PAL_Sales[i],data.JP_Sales[i])== data.NA_Sales[i]):\n",
        "        data['Country_max'][i] = \"NA\"\n",
        "    elif(max(data.PAL_Sales[i],data.JP_Sales[i])== data.PAL_Sales[i]):\n",
        "        data['Country_max'][i] = \"PAL\"\n",
        "    else:\n",
        "        data['Country_max'][i] = \"JP\"\n"
      ]
    },
    {
      "cell_type": "code",
      "execution_count": null,
      "id": "3db89fd6-2139-4b8c-b273-56085b2220ea",
      "metadata": {
        "id": "3db89fd6-2139-4b8c-b273-56085b2220ea",
        "outputId": "0892f13f-0f5c-411f-e062-ee93887df049"
      },
      "outputs": [
        {
          "data": {
            "text/html": [
              "<div>\n",
              "<style scoped>\n",
              "    .dataframe tbody tr th:only-of-type {\n",
              "        vertical-align: middle;\n",
              "    }\n",
              "\n",
              "    .dataframe tbody tr th {\n",
              "        vertical-align: top;\n",
              "    }\n",
              "\n",
              "    .dataframe thead th {\n",
              "        text-align: right;\n",
              "    }\n",
              "</style>\n",
              "<table border=\"1\" class=\"dataframe\">\n",
              "  <thead>\n",
              "    <tr style=\"text-align: right;\">\n",
              "      <th></th>\n",
              "      <th>Genre</th>\n",
              "      <th>ESRB_Rating</th>\n",
              "      <th>Platform</th>\n",
              "      <th>Publisher</th>\n",
              "      <th>Developer</th>\n",
              "      <th>Critic_Score</th>\n",
              "      <th>Year</th>\n",
              "      <th>Country_max</th>\n",
              "    </tr>\n",
              "  </thead>\n",
              "  <tbody>\n",
              "    <tr>\n",
              "      <th>19</th>\n",
              "      <td>Action</td>\n",
              "      <td>M</td>\n",
              "      <td>PS3</td>\n",
              "      <td>Rockstar Games</td>\n",
              "      <td>Rockstar North</td>\n",
              "      <td>9.4</td>\n",
              "      <td>2013.0</td>\n",
              "      <td>PAL</td>\n",
              "    </tr>\n",
              "    <tr>\n",
              "      <th>20</th>\n",
              "      <td>Action</td>\n",
              "      <td>M</td>\n",
              "      <td>PS4</td>\n",
              "      <td>Rockstar Games</td>\n",
              "      <td>Rockstar North</td>\n",
              "      <td>9.7</td>\n",
              "      <td>2014.0</td>\n",
              "      <td>PAL</td>\n",
              "    </tr>\n",
              "    <tr>\n",
              "      <th>30</th>\n",
              "      <td>Action</td>\n",
              "      <td>M</td>\n",
              "      <td>PS2</td>\n",
              "      <td>Rockstar Games</td>\n",
              "      <td>Rockstar North</td>\n",
              "      <td>9.6</td>\n",
              "      <td>2002.0</td>\n",
              "      <td>NA</td>\n",
              "    </tr>\n",
              "    <tr>\n",
              "      <th>40</th>\n",
              "      <td>Shooter</td>\n",
              "      <td>M</td>\n",
              "      <td>X360</td>\n",
              "      <td>Activision</td>\n",
              "      <td>Infinity Ward</td>\n",
              "      <td>8.7</td>\n",
              "      <td>2011.0</td>\n",
              "      <td>NA</td>\n",
              "    </tr>\n",
              "    <tr>\n",
              "      <th>41</th>\n",
              "      <td>Shooter</td>\n",
              "      <td>M</td>\n",
              "      <td>X360</td>\n",
              "      <td>Activision</td>\n",
              "      <td>Treyarch</td>\n",
              "      <td>8.8</td>\n",
              "      <td>2010.0</td>\n",
              "      <td>NA</td>\n",
              "    </tr>\n",
              "  </tbody>\n",
              "</table>\n",
              "</div>"
            ],
            "text/plain": [
              "      Genre ESRB_Rating Platform       Publisher       Developer  \\\n",
              "19   Action           M      PS3  Rockstar Games  Rockstar North   \n",
              "20   Action           M      PS4  Rockstar Games  Rockstar North   \n",
              "30   Action           M      PS2  Rockstar Games  Rockstar North   \n",
              "40  Shooter           M     X360      Activision   Infinity Ward   \n",
              "41  Shooter           M     X360      Activision        Treyarch   \n",
              "\n",
              "    Critic_Score    Year Country_max  \n",
              "19           9.4  2013.0         PAL  \n",
              "20           9.7  2014.0         PAL  \n",
              "30           9.6  2002.0          NA  \n",
              "40           8.7  2011.0          NA  \n",
              "41           8.8  2010.0          NA  "
            ]
          },
          "execution_count": 25,
          "metadata": {},
          "output_type": "execute_result"
        }
      ],
      "source": [
        "#removing the country cols\n",
        "data = data.drop(['NA_Sales','PAL_Sales','JP_Sales'], axis=1)\n",
        "data.head()"
      ]
    },
    {
      "cell_type": "code",
      "execution_count": null,
      "id": "6794542e-6729-49e1-9d51-9c3e6da2f986",
      "metadata": {
        "id": "6794542e-6729-49e1-9d51-9c3e6da2f986"
      },
      "outputs": [],
      "source": [
        "data = data.reset_index()\n",
        "data = data.drop([\"index\"],axis=1)"
      ]
    },
    {
      "cell_type": "code",
      "execution_count": null,
      "id": "e139b649-a55e-4ca6-ad70-153846643164",
      "metadata": {
        "id": "e139b649-a55e-4ca6-ad70-153846643164",
        "outputId": "bdcc19f2-a4a2-4275-a3ac-6dc21243c480"
      },
      "outputs": [
        {
          "data": {
            "text/html": [
              "<div>\n",
              "<style scoped>\n",
              "    .dataframe tbody tr th:only-of-type {\n",
              "        vertical-align: middle;\n",
              "    }\n",
              "\n",
              "    .dataframe tbody tr th {\n",
              "        vertical-align: top;\n",
              "    }\n",
              "\n",
              "    .dataframe thead th {\n",
              "        text-align: right;\n",
              "    }\n",
              "</style>\n",
              "<table border=\"1\" class=\"dataframe\">\n",
              "  <thead>\n",
              "    <tr style=\"text-align: right;\">\n",
              "      <th></th>\n",
              "      <th>Genre</th>\n",
              "      <th>ESRB_Rating</th>\n",
              "      <th>Platform</th>\n",
              "      <th>Publisher</th>\n",
              "      <th>Developer</th>\n",
              "      <th>Critic_Score</th>\n",
              "      <th>Year</th>\n",
              "      <th>Country_max</th>\n",
              "    </tr>\n",
              "  </thead>\n",
              "  <tbody>\n",
              "    <tr>\n",
              "      <th>0</th>\n",
              "      <td>Action</td>\n",
              "      <td>M</td>\n",
              "      <td>PS3</td>\n",
              "      <td>Rockstar Games</td>\n",
              "      <td>Rockstar North</td>\n",
              "      <td>9.4</td>\n",
              "      <td>2013.0</td>\n",
              "      <td>PAL</td>\n",
              "    </tr>\n",
              "    <tr>\n",
              "      <th>1</th>\n",
              "      <td>Action</td>\n",
              "      <td>M</td>\n",
              "      <td>PS4</td>\n",
              "      <td>Rockstar Games</td>\n",
              "      <td>Rockstar North</td>\n",
              "      <td>9.7</td>\n",
              "      <td>2014.0</td>\n",
              "      <td>PAL</td>\n",
              "    </tr>\n",
              "    <tr>\n",
              "      <th>2</th>\n",
              "      <td>Action</td>\n",
              "      <td>M</td>\n",
              "      <td>PS2</td>\n",
              "      <td>Rockstar Games</td>\n",
              "      <td>Rockstar North</td>\n",
              "      <td>9.6</td>\n",
              "      <td>2002.0</td>\n",
              "      <td>NA</td>\n",
              "    </tr>\n",
              "    <tr>\n",
              "      <th>3</th>\n",
              "      <td>Shooter</td>\n",
              "      <td>M</td>\n",
              "      <td>X360</td>\n",
              "      <td>Activision</td>\n",
              "      <td>Infinity Ward</td>\n",
              "      <td>8.7</td>\n",
              "      <td>2011.0</td>\n",
              "      <td>NA</td>\n",
              "    </tr>\n",
              "    <tr>\n",
              "      <th>4</th>\n",
              "      <td>Shooter</td>\n",
              "      <td>M</td>\n",
              "      <td>X360</td>\n",
              "      <td>Activision</td>\n",
              "      <td>Treyarch</td>\n",
              "      <td>8.8</td>\n",
              "      <td>2010.0</td>\n",
              "      <td>NA</td>\n",
              "    </tr>\n",
              "  </tbody>\n",
              "</table>\n",
              "</div>"
            ],
            "text/plain": [
              "     Genre ESRB_Rating Platform       Publisher       Developer  Critic_Score  \\\n",
              "0   Action           M      PS3  Rockstar Games  Rockstar North           9.4   \n",
              "1   Action           M      PS4  Rockstar Games  Rockstar North           9.7   \n",
              "2   Action           M      PS2  Rockstar Games  Rockstar North           9.6   \n",
              "3  Shooter           M     X360      Activision   Infinity Ward           8.7   \n",
              "4  Shooter           M     X360      Activision        Treyarch           8.8   \n",
              "\n",
              "     Year Country_max  \n",
              "0  2013.0         PAL  \n",
              "1  2014.0         PAL  \n",
              "2  2002.0          NA  \n",
              "3  2011.0          NA  \n",
              "4  2010.0          NA  "
            ]
          },
          "execution_count": 27,
          "metadata": {},
          "output_type": "execute_result"
        }
      ],
      "source": [
        "data.head()"
      ]
    },
    {
      "cell_type": "markdown",
      "id": "75149c72-87c8-4e34-80fa-f1bd1abc39e3",
      "metadata": {
        "id": "75149c72-87c8-4e34-80fa-f1bd1abc39e3"
      },
      "source": [
        "##Visualization"
      ]
    },
    {
      "cell_type": "code",
      "execution_count": null,
      "id": "4063799e-af53-4166-8344-0b59f4d6795a",
      "metadata": {
        "id": "4063799e-af53-4166-8344-0b59f4d6795a",
        "outputId": "5ea9a8f0-13ee-457a-c388-fb99a877baeb"
      },
      "outputs": [
        {
          "data": {
            "image/png": "[encoded data removed]",
            "text/plain": [
              "<Figure size 648x504 with 1 Axes>"
            ]
          },
          "metadata": {
            "needs_background": "light"
          },
          "output_type": "display_data"
        }
      ],
      "source": [
        "#bar plot for categorical columns\n",
        "plt.rcParams['figure.figsize']=(9,7)\n",
        "x=data['Country_max'].value_counts()\n",
        "x.plot(kind='bar', color ='gold')\n",
        "plt.title('Univariate Analysis on Country_max column of the dataset', fontsize= 10)\n",
        "plt.xlabel('Country_max')\n",
        "plt.ylabel('no. of games')\n",
        "plt.xticks(rotation = 360)\n",
        "plt.show()"
      ]
    },
    {
      "cell_type": "code",
      "execution_count": null,
      "id": "afc11e8d-ddf8-4567-8d5b-04367169f94c",
      "metadata": {
        "id": "afc11e8d-ddf8-4567-8d5b-04367169f94c",
        "outputId": "44cfe7cf-1f07-46fc-e338-d1f4839dfd1b"
      },
      "outputs": [
        {
          "data": {
            "text/plain": [
              "<AxesSubplot:xlabel='Year', ylabel='Critic_Score'>"
            ]
          },
          "execution_count": 29,
          "metadata": {},
          "output_type": "execute_result"
        },
        {
          "data": {
            "image/png": "[encoded data removed]",
            "text/plain": [
              "<Figure size 720x576 with 1 Axes>"
            ]
          },
          "metadata": {
            "needs_background": "light"
          },
          "output_type": "display_data"
        }
      ],
      "source": [
        "plt.rcParams['figure.figsize']=(10,8)\n",
        "sns.lineplot(data=data, x='Year', y='Critic_Score', hue='Country_max')"
      ]
    },
    {
      "cell_type": "code",
      "execution_count": null,
      "id": "eac6d061-1dcf-4cc6-90f6-7f7643f452ae",
      "metadata": {
        "id": "eac6d061-1dcf-4cc6-90f6-7f7643f452ae",
        "outputId": "1883bdcf-b09a-4dc2-fb68-62ffe870457c"
      },
      "outputs": [
        {
          "data": {
            "text/plain": [
              "<matplotlib.collections.PathCollection at 0x162ab941ac0>"
            ]
          },
          "execution_count": 30,
          "metadata": {},
          "output_type": "execute_result"
        },
        {
          "data": {
            "image/png": "[encoded data removed]",
            "text/plain": [
              "<Figure size 720x576 with 1 Axes>"
            ]
          },
          "metadata": {
            "needs_background": "light"
          },
          "output_type": "display_data"
        }
      ],
      "source": [
        "#scatter plot\n",
        "x=data['Country_max']\n",
        "y=data['Critic_Score']\n",
        "plt.scatter(x,y)"
      ]
    },
    {
      "cell_type": "code",
      "execution_count": null,
      "id": "7c47ded1-a7f0-418f-8409-0fd3873c9783",
      "metadata": {
        "id": "7c47ded1-a7f0-418f-8409-0fd3873c9783",
        "outputId": "60ace8c0-5d03-4b86-9cf7-0c811af13beb"
      },
      "outputs": [
        {
          "data": {
            "text/plain": [
              "Genre            object\n",
              "ESRB_Rating      object\n",
              "Platform         object\n",
              "Publisher        object\n",
              "Developer        object\n",
              "Critic_Score    float64\n",
              "Year            float64\n",
              "Country_max      object\n",
              "dtype: object"
            ]
          },
          "execution_count": 31,
          "metadata": {},
          "output_type": "execute_result"
        }
      ],
      "source": [
        "data.dtypes"
      ]
    },
    {
      "cell_type": "code",
      "execution_count": null,
      "id": "67c856d5-0c72-4638-8431-e38618ad7254",
      "metadata": {
        "id": "67c856d5-0c72-4638-8431-e38618ad7254"
      },
      "outputs": [],
      "source": [
        "num_cols = list(data.select_dtypes('float64').columns)\n",
        "data_num = data[num_cols]"
      ]
    },
    {
      "cell_type": "code",
      "execution_count": null,
      "id": "5d9c06a1-7444-40a8-b480-81519b0826d1",
      "metadata": {
        "id": "5d9c06a1-7444-40a8-b480-81519b0826d1",
        "outputId": "17108001-db02-46a2-e3b0-8810362f80cc"
      },
      "outputs": [
        {
          "name": "stdout",
          "output_type": "stream",
          "text": [
            "['Genre', 'ESRB_Rating', 'Platform', 'Publisher', 'Developer', 'Country_max']\n"
          ]
        }
      ],
      "source": [
        "cols = list(data.select_dtypes('object').columns)\n",
        "print(cols)"
      ]
    },
    {
      "cell_type": "code",
      "execution_count": null,
      "id": "66ec910a-86ff-44b8-8527-d3538e221634",
      "metadata": {
        "id": "66ec910a-86ff-44b8-8527-d3538e221634",
        "outputId": "965b95e1-5e65-4213-d24d-5ae60c5a68fa"
      },
      "outputs": [
        {
          "data": {
            "text/html": [
              "<div>\n",
              "<style scoped>\n",
              "    .dataframe tbody tr th:only-of-type {\n",
              "        vertical-align: middle;\n",
              "    }\n",
              "\n",
              "    .dataframe tbody tr th {\n",
              "        vertical-align: top;\n",
              "    }\n",
              "\n",
              "    .dataframe thead th {\n",
              "        text-align: right;\n",
              "    }\n",
              "</style>\n",
              "<table border=\"1\" class=\"dataframe\">\n",
              "  <thead>\n",
              "    <tr style=\"text-align: right;\">\n",
              "      <th></th>\n",
              "      <th>Genre</th>\n",
              "      <th>ESRB_Rating</th>\n",
              "      <th>Platform</th>\n",
              "      <th>Publisher</th>\n",
              "      <th>Developer</th>\n",
              "      <th>Country_max</th>\n",
              "    </tr>\n",
              "  </thead>\n",
              "  <tbody>\n",
              "    <tr>\n",
              "      <th>0</th>\n",
              "      <td>0</td>\n",
              "      <td>2</td>\n",
              "      <td>13</td>\n",
              "      <td>59</td>\n",
              "      <td>306</td>\n",
              "      <td>2</td>\n",
              "    </tr>\n",
              "    <tr>\n",
              "      <th>1</th>\n",
              "      <td>0</td>\n",
              "      <td>2</td>\n",
              "      <td>14</td>\n",
              "      <td>59</td>\n",
              "      <td>306</td>\n",
              "      <td>2</td>\n",
              "    </tr>\n",
              "    <tr>\n",
              "      <th>2</th>\n",
              "      <td>0</td>\n",
              "      <td>2</td>\n",
              "      <td>12</td>\n",
              "      <td>59</td>\n",
              "      <td>306</td>\n",
              "      <td>1</td>\n",
              "    </tr>\n",
              "    <tr>\n",
              "      <th>3</th>\n",
              "      <td>14</td>\n",
              "      <td>2</td>\n",
              "      <td>21</td>\n",
              "      <td>7</td>\n",
              "      <td>177</td>\n",
              "      <td>1</td>\n",
              "    </tr>\n",
              "    <tr>\n",
              "      <th>4</th>\n",
              "      <td>14</td>\n",
              "      <td>2</td>\n",
              "      <td>21</td>\n",
              "      <td>7</td>\n",
              "      <td>382</td>\n",
              "      <td>1</td>\n",
              "    </tr>\n",
              "  </tbody>\n",
              "</table>\n",
              "</div>"
            ],
            "text/plain": [
              "   Genre  ESRB_Rating  Platform  Publisher  Developer  Country_max\n",
              "0      0            2        13         59        306            2\n",
              "1      0            2        14         59        306            2\n",
              "2      0            2        12         59        306            1\n",
              "3     14            2        21          7        177            1\n",
              "4     14            2        21          7        382            1"
            ]
          },
          "execution_count": 34,
          "metadata": {},
          "output_type": "execute_result"
        }
      ],
      "source": [
        "#converting categorical variables to number series\n",
        "le = preprocessing.LabelEncoder()\n",
        "\n",
        "data = data[cols].apply(le.fit_transform)\n",
        "data.head()"
      ]
    },
    {
      "cell_type": "code",
      "execution_count": null,
      "id": "fce16040-ce7d-46ff-9b28-edf0db3c4de3",
      "metadata": {
        "id": "fce16040-ce7d-46ff-9b28-edf0db3c4de3",
        "outputId": "13ae51d9-35d7-4eed-897d-47252717c24b"
      },
      "outputs": [
        {
          "data": {
            "text/html": [
              "<div>\n",
              "<style scoped>\n",
              "    .dataframe tbody tr th:only-of-type {\n",
              "        vertical-align: middle;\n",
              "    }\n",
              "\n",
              "    .dataframe tbody tr th {\n",
              "        vertical-align: top;\n",
              "    }\n",
              "\n",
              "    .dataframe thead th {\n",
              "        text-align: right;\n",
              "    }\n",
              "</style>\n",
              "<table border=\"1\" class=\"dataframe\">\n",
              "  <thead>\n",
              "    <tr style=\"text-align: right;\">\n",
              "      <th></th>\n",
              "      <th>Critic_Score</th>\n",
              "      <th>Year</th>\n",
              "      <th>Genre</th>\n",
              "      <th>ESRB_Rating</th>\n",
              "      <th>Platform</th>\n",
              "      <th>Publisher</th>\n",
              "      <th>Developer</th>\n",
              "      <th>Country_max</th>\n",
              "    </tr>\n",
              "  </thead>\n",
              "  <tbody>\n",
              "    <tr>\n",
              "      <th>0</th>\n",
              "      <td>9.4</td>\n",
              "      <td>2013.0</td>\n",
              "      <td>0</td>\n",
              "      <td>2</td>\n",
              "      <td>13</td>\n",
              "      <td>59</td>\n",
              "      <td>306</td>\n",
              "      <td>2</td>\n",
              "    </tr>\n",
              "    <tr>\n",
              "      <th>1</th>\n",
              "      <td>9.7</td>\n",
              "      <td>2014.0</td>\n",
              "      <td>0</td>\n",
              "      <td>2</td>\n",
              "      <td>14</td>\n",
              "      <td>59</td>\n",
              "      <td>306</td>\n",
              "      <td>2</td>\n",
              "    </tr>\n",
              "    <tr>\n",
              "      <th>2</th>\n",
              "      <td>9.6</td>\n",
              "      <td>2002.0</td>\n",
              "      <td>0</td>\n",
              "      <td>2</td>\n",
              "      <td>12</td>\n",
              "      <td>59</td>\n",
              "      <td>306</td>\n",
              "      <td>1</td>\n",
              "    </tr>\n",
              "    <tr>\n",
              "      <th>3</th>\n",
              "      <td>8.7</td>\n",
              "      <td>2011.0</td>\n",
              "      <td>14</td>\n",
              "      <td>2</td>\n",
              "      <td>21</td>\n",
              "      <td>7</td>\n",
              "      <td>177</td>\n",
              "      <td>1</td>\n",
              "    </tr>\n",
              "    <tr>\n",
              "      <th>4</th>\n",
              "      <td>8.8</td>\n",
              "      <td>2010.0</td>\n",
              "      <td>14</td>\n",
              "      <td>2</td>\n",
              "      <td>21</td>\n",
              "      <td>7</td>\n",
              "      <td>382</td>\n",
              "      <td>1</td>\n",
              "    </tr>\n",
              "  </tbody>\n",
              "</table>\n",
              "</div>"
            ],
            "text/plain": [
              "   Critic_Score    Year  Genre  ESRB_Rating  Platform  Publisher  Developer  \\\n",
              "0           9.4  2013.0      0            2        13         59        306   \n",
              "1           9.7  2014.0      0            2        14         59        306   \n",
              "2           9.6  2002.0      0            2        12         59        306   \n",
              "3           8.7  2011.0     14            2        21          7        177   \n",
              "4           8.8  2010.0     14            2        21          7        382   \n",
              "\n",
              "   Country_max  \n",
              "0            2  \n",
              "1            2  \n",
              "2            1  \n",
              "3            1  \n",
              "4            1  "
            ]
          },
          "execution_count": 35,
          "metadata": {},
          "output_type": "execute_result"
        }
      ],
      "source": [
        "#merging data\n",
        "data = pd.concat([data_num,data], axis=1)\n",
        "data.head()"
      ]
    },
    {
      "cell_type": "markdown",
      "source": [
        "##Model"
      ],
      "metadata": {
        "id": "C_wHNAiD7M--"
      },
      "id": "C_wHNAiD7M--"
    },
    {
      "cell_type": "code",
      "execution_count": null,
      "id": "a2866eeb-c77b-492a-9022-c114a05b025e",
      "metadata": {
        "id": "a2866eeb-c77b-492a-9022-c114a05b025e"
      },
      "outputs": [],
      "source": [
        "from sklearn.model_selection import train_test_split\n",
        "from sklearn.neighbors import KNeighborsClassifier\n",
        "from sklearn import metrics\n",
        "import plotly.graph_objects as go\n",
        "import matplotlib.pyplot as plt"
      ]
    },
    {
      "cell_type": "code",
      "execution_count": null,
      "id": "89199247-959b-4429-8763-46ba167d4ce8",
      "metadata": {
        "id": "89199247-959b-4429-8763-46ba167d4ce8"
      },
      "outputs": [],
      "source": [
        "#splitting dataset into training and testing models\n",
        "X_train, X_test, y_train, y_test = train_test_split(data.drop('Country_max',axis=1),data['Country_max'],test_size = 0.3, random_state = 7)"
      ]
    },
    {
      "cell_type": "code",
      "execution_count": null,
      "id": "7a44150d-a1e9-4436-92bf-2c561e5040e1",
      "metadata": {
        "id": "7a44150d-a1e9-4436-92bf-2c561e5040e1",
        "outputId": "ea0ee8fe-44eb-413c-9f4f-d45335084d17"
      },
      "outputs": [
        {
          "data": {
            "text/plain": [
              "KNeighborsClassifier(n_neighbors=7)"
            ]
          },
          "execution_count": 38,
          "metadata": {},
          "output_type": "execute_result"
        }
      ],
      "source": [
        "knn = KNeighborsClassifier(n_neighbors = 7)\n",
        "knn.fit(X_train,y_train)"
      ]
    },
    {
      "cell_type": "code",
      "execution_count": null,
      "id": "9cda9d7e-77fe-4a3d-8b38-d179a30559a2",
      "metadata": {
        "id": "9cda9d7e-77fe-4a3d-8b38-d179a30559a2",
        "outputId": "f3b01b1e-51b6-4573-e9a2-01488f7468a4"
      },
      "outputs": [
        {
          "data": {
            "text/plain": [
              "array([1, 1, 1, 1, 1, 2, 1, 1, 1, 1, 1, 1, 1, 1, 1, 1, 1, 1, 2, 1, 1, 0,\n",
              "       1, 1, 1, 1, 2, 2, 1, 2, 1, 1, 1, 1, 0, 0, 2, 2, 1, 0, 2, 1, 1, 0,\n",
              "       1, 1, 1, 1, 1, 1, 2, 1, 1, 0, 2, 1, 0, 1, 0, 2, 1, 1, 1, 1, 1, 2,\n",
              "       1, 1, 1, 1, 1, 1, 1, 1, 1, 2, 1, 2, 1, 1, 1, 1, 1, 1, 1, 1, 2, 1,\n",
              "       1, 1, 1, 0, 1, 1, 1, 1, 2, 1, 0, 0, 2, 1, 1, 2, 1, 1, 1, 1, 1, 1,\n",
              "       0, 1, 1, 1, 1, 1, 1, 1, 1, 1, 2, 1, 1, 1, 1, 1, 2, 1, 1, 0, 1, 2,\n",
              "       2, 1, 1, 1, 1, 1, 1, 2, 1, 1, 1, 1, 1, 1, 0, 1, 1, 1, 1, 0, 1, 1,\n",
              "       1, 0, 0, 1, 1, 1, 2, 1, 1, 1, 1, 1, 1, 1, 2, 1, 1, 1, 1, 1, 1, 1,\n",
              "       1, 1, 1, 1, 2, 1, 1, 1, 1, 1, 1, 2, 2, 1, 1, 1, 2, 1, 1, 2, 1, 1,\n",
              "       1, 2, 1, 2, 0, 1, 1, 1, 2, 1, 1, 1, 2, 1, 1, 1, 1, 1, 1, 0, 1, 2,\n",
              "       1, 1, 1, 0, 2, 1, 2, 1, 1, 1, 2, 1, 0, 1, 1, 1, 1, 1, 1, 1, 2, 1,\n",
              "       2, 1, 0, 2, 1, 1, 2, 1, 1, 2, 1, 1, 2, 1, 1, 2, 1, 1, 1, 1, 1, 0,\n",
              "       1, 1, 0, 0, 1, 1, 1, 1, 2, 1, 1, 1, 1, 2, 2, 1, 2, 2, 2, 1, 1, 0,\n",
              "       1, 1, 1, 1, 2, 1, 1, 0, 2, 1, 1, 1, 1, 1, 1, 1, 2, 1, 1, 1, 2, 1,\n",
              "       1, 1, 1, 1, 1, 1, 1, 2, 1, 1, 1, 1, 1, 1, 1, 1, 1, 1, 1, 2, 2, 1,\n",
              "       1, 0, 1, 1, 1, 1, 1, 0, 0, 1, 1, 0, 2, 1, 1, 1, 1, 1, 1, 0, 0, 1,\n",
              "       1, 0, 1, 1, 1, 1, 0, 1, 1, 1, 1, 2, 1, 1, 1, 1, 1, 1, 2, 0, 1, 1,\n",
              "       1, 1, 2, 1, 1, 1, 1, 1, 1, 0, 1, 2, 1, 2, 1, 1, 1, 1, 2, 1, 1, 1])"
            ]
          },
          "execution_count": 45,
          "metadata": {},
          "output_type": "execute_result"
        }
      ],
      "source": [
        "y_pred = knn.predict(X_test)\n",
        "y_pred"
      ]
    },
    {
      "cell_type": "code",
      "execution_count": null,
      "id": "22c52baf-fef1-4294-8b55-64350d326d8d",
      "metadata": {
        "id": "22c52baf-fef1-4294-8b55-64350d326d8d",
        "outputId": "1cfb7595-f5d4-4465-c41e-163db7042b66"
      },
      "outputs": [
        {
          "name": "stdout",
          "output_type": "stream",
          "text": [
            "ACCURACY SCORE : 0.6085858585858586\n",
            "RMSE : 13.038404810405298\n"
          ]
        }
      ],
      "source": [
        "print(\"ACCURACY SCORE :\", metrics.accuracy_score(y_test,y_pred))\n",
        "RMSE=np.sqrt(np.sum(np.square(y_pred-y_test)))\n",
        "print(\"RMSE :\", RMSE)"
      ]
    },
    {
      "cell_type": "code",
      "execution_count": null,
      "id": "08db20e3-4f06-4a19-b1e0-46557b2d0686",
      "metadata": {
        "id": "08db20e3-4f06-4a19-b1e0-46557b2d0686",
        "outputId": "b3517641-7afb-4901-abb6-ac479edad73b"
      },
      "outputs": [
        {
          "data": {
            "image/png": "[encoded data removed]",
            "text/plain": [
              "<Figure size 720x576 with 1 Axes>"
            ]
          },
          "metadata": {
            "needs_background": "light"
          },
          "output_type": "display_data"
        }
      ],
      "source": [
        "#PLOTTING THE PREDICTION ERROR\n",
        "g=plt.plot(y_test - y_pred,marker='o',linestyle='')"
      ]
    },
    {
      "cell_type": "code",
      "execution_count": null,
      "id": "8f6cd5ea-ff41-42d7-8e17-81e5c9a20e25",
      "metadata": {
        "id": "8f6cd5ea-ff41-42d7-8e17-81e5c9a20e25",
        "outputId": "10ab4b2c-19d2-4f2e-f365-7957c798da60"
      },
      "outputs": [
        {
          "data": {
            "image/png": "[encoded data removed]",
            "text/plain": [
              "<Figure size 720x720 with 1 Axes>"
            ]
          },
          "metadata": {
            "needs_background": "light"
          },
          "output_type": "display_data"
        }
      ],
      "source": [
        "#PLOTTING PREDICTION VS ACTUAL\n",
        "plt.figure(figsize=(10,10))\n",
        "plt.scatter(y_test, y_pred, c='crimson')\n",
        "p1 = max(max(y_pred), max(y_test))\n",
        "p2 = min(min(y_pred), min(y_test))\n",
        "plt.plot([p1, p2], [p1, p2], 'b-')\n",
        "plt.xlabel('True Values', fontsize=15)\n",
        "plt.ylabel('Predictions', fontsize=15)\n",
        "plt.axis('equal')\n",
        "plt.show()"
      ]
    },
    {
      "cell_type": "code",
      "execution_count": null,
      "id": "b630a468-67e8-435a-a8c4-bcee4a9ee1bd",
      "metadata": {
        "id": "b630a468-67e8-435a-a8c4-bcee4a9ee1bd",
        "outputId": "bcecac9a-f173-432e-d1b9-0b7963241883"
      },
      "outputs": [
        {
          "data": {
            "image/png": "[encoded data removed]",
            "text/plain": [
              "<Figure size 720x576 with 2 Axes>"
            ]
          },
          "metadata": {
            "needs_background": "light"
          },
          "output_type": "display_data"
        }
      ],
      "source": [
        "#Confusion Matrx\n",
        "confusion_matrix = metrics.confusion_matrix(y_test, y_pred)\n",
        "confusion_matrix\n",
        "cm_display = metrics.ConfusionMatrixDisplay(confusion_matrix = confusion_matrix, display_labels = ['NA', 'PAL', 'Japan'])\n",
        "cm_display.plot()\n",
        "plt.show()"
      ]
    },
    {
      "cell_type": "code",
      "execution_count": null,
      "id": "0d4d2d54-8a5a-4710-8358-e6ab62ca7d1a",
      "metadata": {
        "id": "0d4d2d54-8a5a-4710-8358-e6ab62ca7d1a"
      },
      "outputs": [],
      "source": []
    }
  ],
  "metadata": {
    "kernelspec": {
      "display_name": "Python 3 (ipykernel)",
      "language": "python",
      "name": "python3"
    },
    "language_info": {
      "codemirror_mode": {
        "name": "ipython",
        "version": 3
      },
      "file_extension": ".py",
      "mimetype": "text/x-python",
      "name": "python",
      "nbconvert_exporter": "python",
      "pygments_lexer": "ipython3",
      "version": "3.9.12"
    },
    "colab": {
      "provenance": []
    }
  },
  "nbformat": 4,
  "nbformat_minor": 5
}